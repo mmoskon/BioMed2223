{
 "cells": [
  {
   "cell_type": "markdown",
   "metadata": {},
   "source": [
    "# Diferenčno izražanje reakcij\n",
    "Primerjali bomo pare reakcij (kontrola, utišanje) na podlagi vzorčenih metabolnih pretokov.\n",
    "\n",
    "Uporabimo lahko npr. test Kolmogorov-Smirnov, ki ne predpostavlja normalne porazdelitve v vzorcih, statistična značilnost razlik pa je ovrednotena s p-vrednostmi.\n",
    "\n",
    "Dodatno bomo opazovali kako močno se reakcije med vzorci razlikujejo (fold-changes):\n",
    "\n",
    "$$FC = \\frac{\\overline{R_{kd}} - \\overline{R_{control}}}{\\left|\\overline{R_{kd}} + \\overline{R_{control}}\\right|}$$"
   ]
  },
  {
   "cell_type": "code",
   "execution_count": 1,
   "metadata": {},
   "outputs": [],
   "source": [
    "import pandas as pd\n",
    "import numpy as np\n",
    "\n",
    "from scipy.stats import ks_2samp\n",
    "#import statsmodels.stats.multitest as multi\n",
    "\n",
    "import os.path\n",
    "\n",
    "from helpers import bh"
   ]
  },
  {
   "cell_type": "markdown",
   "metadata": {},
   "source": [
    "### Osnovne nastavitve"
   ]
  },
  {
   "cell_type": "code",
   "execution_count": 2,
   "metadata": {},
   "outputs": [],
   "source": [
    "require_biomass = True\n",
    "folder_samples = os.path.join('samples','biomass') if require_biomass else os.path.join('samples','no_biomass')\n",
    "folder_enrich = os.path.join('enrichment','biomass') if require_biomass else os.path.join('enrichment','no_biomass')"
   ]
  },
  {
   "cell_type": "markdown",
   "metadata": {},
   "source": [
    "### Branje iz datotek"
   ]
  },
  {
   "cell_type": "code",
   "execution_count": 3,
   "metadata": {},
   "outputs": [],
   "source": [
    "df_control = pd.read_csv(os.path.join(f'{folder_samples}','samples_control.csv'))\n",
    "df_kd = pd.read_csv(os.path.join(f'{folder_samples}','samples_kd.csv'))"
   ]
  },
  {
   "cell_type": "code",
   "execution_count": 4,
   "metadata": {},
   "outputs": [
    {
     "data": {
      "text/plain": [
       "2282"
      ]
     },
     "execution_count": 4,
     "metadata": {},
     "output_type": "execute_result"
    }
   ],
   "source": [
    "reactions = sorted(list(set(df_control.columns) | set(df_kd.columns)))\n",
    "len(reactions) # število reakcij"
   ]
  },
  {
   "cell_type": "markdown",
   "metadata": {},
   "source": [
    "### Diferenčna aktivnost reakcij"
   ]
  },
  {
   "cell_type": "code",
   "execution_count": 5,
   "metadata": {},
   "outputs": [],
   "source": [
    "df = pd.DataFrame(columns=['reaction', 'FC', 'p', 'q', 'enrichment', 'changed'])\n",
    "df['reaction']=reactions\n",
    "\n",
    "n_samples = df_control.shape[0]\n",
    "\n",
    "# sprehodimo se čez vse reakcije\n",
    "for reaction in reactions:\n",
    "    if reaction in df_control.columns:\n",
    "        control = df_control[reaction].values\n",
    "    else:\n",
    "        # če reakcije ni v kontrolni skupini, ji pripišemo same ničle\n",
    "        control = np.zeros(n_samples)\n",
    "        \n",
    "    if reaction in df_kd.columns:\n",
    "        kd = df_kd[reaction].values\n",
    "    else:\n",
    "        # če reakcije ni v kd skupini, ji pripišemo same ničle\n",
    "        kd = np.zeros(n_samples)\n",
    "        \n",
    "    # iztračunamo sredino za kontrolo in kd\n",
    "    mean_control = np.mean(control)\n",
    "    mean_kd = np.mean(kd)\n",
    "    \n",
    "    # izračunamo FC - fold change in signifikanco z uporabo 2 sample Kolmogorov-Smirnov testa\n",
    "    if mean_control != 0 or mean_kd != 0:\n",
    "        FC = (mean_kd-mean_control)/(abs(mean_kd + mean_control))\n",
    "        p = ks_2samp(control,kd)[1]\n",
    "    else:\n",
    "        FC = 0\n",
    "        p = 1     \n",
    "        \n",
    "    df.loc[df['reaction']==reaction, 'FC'] = FC\n",
    "    df.loc[df['reaction']==reaction, 'p'] = p\n",
    "    \n",
    "    \n",
    "# korigiramo p vrednosti za večkratno testiranje - FDR korekcija\n",
    "df['q'] = bh(df['p'])\n",
    "\n",
    "# signifikanca zahteva vsaj 10-kratno up-/down-regulacijo\n",
    "df.loc[(df['FC'] >= 0.82) & (df['q'] < 0.05),'enrichment'] = 1\n",
    "df.loc[(df['FC'] <= -0.82) & (df['q'] < 0.05),'enrichment'] = -1\n",
    "df.loc[~df['enrichment'].isna(),'changed'] = 1\n",
    "df = df.fillna(0)\n",
    "    \n",
    "    "
   ]
  },
  {
   "cell_type": "code",
   "execution_count": 6,
   "metadata": {},
   "outputs": [],
   "source": [
    "df.to_csv(f\"{folder_enrich}\\\\reactions.csv\", index=False)"
   ]
  },
  {
   "cell_type": "code",
   "execution_count": 8,
   "metadata": {},
   "outputs": [
    {
     "data": {
      "text/html": [
       "<div>\n",
       "<style scoped>\n",
       "    .dataframe tbody tr th:only-of-type {\n",
       "        vertical-align: middle;\n",
       "    }\n",
       "\n",
       "    .dataframe tbody tr th {\n",
       "        vertical-align: top;\n",
       "    }\n",
       "\n",
       "    .dataframe thead th {\n",
       "        text-align: right;\n",
       "    }\n",
       "</style>\n",
       "<table border=\"1\" class=\"dataframe\">\n",
       "  <thead>\n",
       "    <tr style=\"text-align: right;\">\n",
       "      <th></th>\n",
       "      <th>reaction</th>\n",
       "      <th>FC</th>\n",
       "      <th>p</th>\n",
       "      <th>q</th>\n",
       "      <th>enrichment</th>\n",
       "      <th>changed</th>\n",
       "    </tr>\n",
       "  </thead>\n",
       "  <tbody>\n",
       "    <tr>\n",
       "      <th>2</th>\n",
       "      <td>10FTHFtl</td>\n",
       "      <td>-5.179573</td>\n",
       "      <td>0.000000e+00</td>\n",
       "      <td>0.000000e+00</td>\n",
       "      <td>-1</td>\n",
       "      <td>1</td>\n",
       "    </tr>\n",
       "    <tr>\n",
       "      <th>3</th>\n",
       "      <td>10FTHFtm</td>\n",
       "      <td>-7.129161</td>\n",
       "      <td>5.205457e-12</td>\n",
       "      <td>5.981296e-12</td>\n",
       "      <td>-1</td>\n",
       "      <td>1</td>\n",
       "    </tr>\n",
       "    <tr>\n",
       "      <th>7</th>\n",
       "      <td>24_25DHVITD2t</td>\n",
       "      <td>-1.000000</td>\n",
       "      <td>0.000000e+00</td>\n",
       "      <td>0.000000e+00</td>\n",
       "      <td>-1</td>\n",
       "      <td>1</td>\n",
       "    </tr>\n",
       "    <tr>\n",
       "      <th>8</th>\n",
       "      <td>24_25DHVITD2tm</td>\n",
       "      <td>-1.000000</td>\n",
       "      <td>0.000000e+00</td>\n",
       "      <td>0.000000e+00</td>\n",
       "      <td>-1</td>\n",
       "      <td>1</td>\n",
       "    </tr>\n",
       "    <tr>\n",
       "      <th>9</th>\n",
       "      <td>24_25DHVITD3t</td>\n",
       "      <td>-1.000000</td>\n",
       "      <td>0.000000e+00</td>\n",
       "      <td>0.000000e+00</td>\n",
       "      <td>-1</td>\n",
       "      <td>1</td>\n",
       "    </tr>\n",
       "    <tr>\n",
       "      <th>...</th>\n",
       "      <td>...</td>\n",
       "      <td>...</td>\n",
       "      <td>...</td>\n",
       "      <td>...</td>\n",
       "      <td>...</td>\n",
       "      <td>...</td>\n",
       "    </tr>\n",
       "    <tr>\n",
       "      <th>2271</th>\n",
       "      <td>r2510</td>\n",
       "      <td>-100.826726</td>\n",
       "      <td>0.000000e+00</td>\n",
       "      <td>0.000000e+00</td>\n",
       "      <td>-1</td>\n",
       "      <td>1</td>\n",
       "    </tr>\n",
       "    <tr>\n",
       "      <th>2272</th>\n",
       "      <td>r2511</td>\n",
       "      <td>-44.191875</td>\n",
       "      <td>0.000000e+00</td>\n",
       "      <td>0.000000e+00</td>\n",
       "      <td>-1</td>\n",
       "      <td>1</td>\n",
       "    </tr>\n",
       "    <tr>\n",
       "      <th>2275</th>\n",
       "      <td>r2514e</td>\n",
       "      <td>-485.463099</td>\n",
       "      <td>5.249252e-295</td>\n",
       "      <td>1.133282e-294</td>\n",
       "      <td>-1</td>\n",
       "      <td>1</td>\n",
       "    </tr>\n",
       "    <tr>\n",
       "      <th>2277</th>\n",
       "      <td>r2519</td>\n",
       "      <td>-23.927067</td>\n",
       "      <td>1.352908e-72</td>\n",
       "      <td>2.033818e-72</td>\n",
       "      <td>-1</td>\n",
       "      <td>1</td>\n",
       "    </tr>\n",
       "    <tr>\n",
       "      <th>2279</th>\n",
       "      <td>r2535m</td>\n",
       "      <td>-158.749511</td>\n",
       "      <td>0.000000e+00</td>\n",
       "      <td>0.000000e+00</td>\n",
       "      <td>-1</td>\n",
       "      <td>1</td>\n",
       "    </tr>\n",
       "  </tbody>\n",
       "</table>\n",
       "<p>640 rows × 6 columns</p>\n",
       "</div>"
      ],
      "text/plain": [
       "            reaction          FC              p              q  enrichment  \\\n",
       "2           10FTHFtl   -5.179573   0.000000e+00   0.000000e+00          -1   \n",
       "3           10FTHFtm   -7.129161   5.205457e-12   5.981296e-12          -1   \n",
       "7      24_25DHVITD2t   -1.000000   0.000000e+00   0.000000e+00          -1   \n",
       "8     24_25DHVITD2tm   -1.000000   0.000000e+00   0.000000e+00          -1   \n",
       "9      24_25DHVITD3t   -1.000000   0.000000e+00   0.000000e+00          -1   \n",
       "...              ...         ...            ...            ...         ...   \n",
       "2271           r2510 -100.826726   0.000000e+00   0.000000e+00          -1   \n",
       "2272           r2511  -44.191875   0.000000e+00   0.000000e+00          -1   \n",
       "2275          r2514e -485.463099  5.249252e-295  1.133282e-294          -1   \n",
       "2277           r2519  -23.927067   1.352908e-72   2.033818e-72          -1   \n",
       "2279          r2535m -158.749511   0.000000e+00   0.000000e+00          -1   \n",
       "\n",
       "      changed  \n",
       "2           1  \n",
       "3           1  \n",
       "7           1  \n",
       "8           1  \n",
       "9           1  \n",
       "...       ...  \n",
       "2271        1  \n",
       "2272        1  \n",
       "2275        1  \n",
       "2277        1  \n",
       "2279        1  \n",
       "\n",
       "[640 rows x 6 columns]"
      ]
     },
     "execution_count": 8,
     "metadata": {},
     "output_type": "execute_result"
    }
   ],
   "source": [
    "df[df.enrichment == -1]"
   ]
  }
 ],
 "metadata": {
  "kernelspec": {
   "display_name": "metabolic",
   "language": "python",
   "name": "metabolic"
  },
  "language_info": {
   "codemirror_mode": {
    "name": "ipython",
    "version": 3
   },
   "file_extension": ".py",
   "mimetype": "text/x-python",
   "name": "python",
   "nbconvert_exporter": "python",
   "pygments_lexer": "ipython3",
   "version": "3.11.0"
  }
 },
 "nbformat": 4,
 "nbformat_minor": 4
}
